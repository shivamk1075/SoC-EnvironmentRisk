import ee
import time

ee.Authenticate()
ee.Initialize(project='environment-change-detection')

table = ee.FeatureCollection("projects/environment-change-detection/assets/MiningZones2")

def export_image(image, desc, folder, region, scale, file_format='GEO_TIFF'):
    task = ee.batch.Export.image.toDrive(
        image=image,
        description=desc,
        folder=folder,
        region=region,
        scale=scale,
        fileFormat=file_format,
        maxPixels=1e13
    )
    task.start()
    time.sleep(3)

def export_with_box(base_image, tag, vis_params, name, folder, region, expanded_region, scale):
    viz = base_image.visualize(**vis_params)
    composite = ee.ImageCollection([viz, box_outline_rgb]).mosaic()
    export_image(composite, f"{name}_{tag}", folder, expanded_region, scale)

features = table.toList(table.size())

for i in range(1):
    feature = ee.Feature(features.get(i))
    name = feature.get("Name").getInfo().replace(' ', '_')
    lat = feature.get("Lat").getInfo()
    lon = feature.get("Long").getInfo()
    region = ee.Geometry.Rectangle([lon - 0.025, lat - 0.025, lon + 0.025, lat + 0.025])
    expanded_region = ee.Geometry.Rectangle([lon - 0.07, lat - 0.07, lon + 0.07, lat + 0.07])
    folder = "data_" + name

    zone_box = ee.Geometry.Rectangle([lon - 0.025, lat - 0.025, lon + 0.025, lat + 0.025])
    box_outline_rgb = ee.Image().byte().paint(zone_box, 1, 6).visualize(palette=['blue'])

    img2020 = ee.ImageCollection("LANDSAT/LC08/C02/T1_L2") \
        .filterBounds(region).filterDate('2020-01-01', '2020-12-31') \
        .select(['SR_B4', 'SR_B5']).median().multiply(0.0000275).add(-0.2)
    ndvi2020 = img2020.normalizedDifference(['SR_B5', 'SR_B4'])
    export_with_box(ndvi2020, "NDVI_2020_Before",
                    {"min": 0, "max": 1, "palette": ['brown', 'yellow', 'green']},
                    name, folder, region, expanded_region, 30)

    img2024 = ee.ImageCollection("LANDSAT/LC09/C02/T1_L2") \
        .filterBounds(region).filterDate('2024-01-01', '2024-12-31') \
        .select(['SR_B4', 'SR_B5']).median().multiply(0.0000275).add(-0.2)
    ndvi2024 = img2024.normalizedDifference(['SR_B5', 'SR_B4'])
    export_with_box(ndvi2024, "NDVI_2024_After",
                    {"min": 0, "max": 1, "palette": ['brown', 'yellow', 'green']},
                    name, folder, region, expanded_region, 30)

    ndviChange = ndvi2024.subtract(ndvi2020)
    export_with_box(ndviChange, "NDVI_Change",
                    {"min": -0.5, "max": 0.5, "palette": ['red', 'white', 'green']},
                    name, folder, region, expanded_region, 30)

    trueColor2020 = ee.ImageCollection("LANDSAT/LC08/C02/T1_L2") \
        .filterBounds(region).filterDate('2020-01-01', '2020-12-31') \
        .select(['SR_B4', 'SR_B3', 'SR_B2']).median().multiply(0.0000275).add(-0.2)
    export_with_box(trueColor2020, "Satellite_2020_Before",
                    {"min": 0.05, "max": 0.3},
                    name, folder, region, expanded_region, 30)

    trueColor2024 = ee.ImageCollection("LANDSAT/LC09/C02/T1_L2") \
        .filterBounds(region).filterDate('2024-01-01', '2024-12-31') \
        .select(['SR_B4', 'SR_B3', 'SR_B2']).median().multiply(0.0000275).add(-0.2)
    export_with_box(trueColor2024, "Satellite_2024_After",
                    {"min": 0.05, "max": 0.3},
                    name, folder, region, expanded_region, 30)

    dw2020 = ee.ImageCollection("GOOGLE/DYNAMICWORLD/V1") \
        .filterBounds(region).filterDate("2020-01-01", "2020-12-31") \
        .select("label").mode()
    dw2024 = ee.ImageCollection("GOOGLE/DYNAMICWORLD/V1") \
        .filterBounds(region).filterDate("2024-01-01", "2024-12-31") \
        .select("label").mode()

    dw_palette = ['#419bdf', '#397d49', '#88b053', '#7a87c6', '#e49635',
                  '#dfc35a', '#c4281b', '#a59b8f', '#ffffff']

    export_with_box(dw2020, "Landuse_2020_Before",
                    {"min": 0, "max": 8, "palette": dw_palette},
                    name, folder, region, expanded_region, 10)
    export_with_box(dw2024, "Landuse_2024_After",
                    {"min": 0, "max": 8, "palette": dw_palette},
                    name, folder, region, expanded_region, 10)

    landuseChange = dw2024.subtract(dw2020)
    export_with_box(landuseChange, "Landuse_Change",
                    {"min": -5, "max": 5, "palette": ['red', 'white', 'blue']},
                    name, folder, region, expanded_region, 10)

    urban2020 = ee.ImageCollection("GOOGLE/DYNAMICWORLD/V1") \
        .filterBounds(region).filterDate("2020-01-01", "2020-12-31") \
        .map(lambda img: img.select('label').eq(7)).mean()
    urban2024 = ee.ImageCollection("GOOGLE/DYNAMICWORLD/V1") \
        .filterBounds(region).filterDate("2024-01-01", "2024-12-31") \
        .map(lambda img: img.select('label').eq(7)).mean()

    export_with_box(urban2020, "Urban_2020_Before",
                    {"min": 0, "max": 1, "palette": ['white', 'red']},
                    name, folder, region, expanded_region, 10)
    export_with_box(urban2024, "Urban_2024_After",
                    {"min": 0, "max": 1, "palette": ['white', 'red']},
                    name, folder, region, expanded_region, 10)

    urbanGrowth = urban2024.subtract(urban2020)
    export_with_box(urbanGrowth, "Urban_Growth",
                    {"min": -0.5, "max": 0.5, "palette": ['white', 'red']},
                    name, folder, region, expanded_region, 10)

    print(f"Started export tasks for: {name}")

print("All 2020–2024 exports launched. Check Earth Engine Tasks tab.")
